{
  "cells": [
    {
      "cell_type": "markdown",
      "metadata": {
        "id": "view-in-github",
        "colab_type": "text"
      },
      "source": [
        "<a href=\"https://colab.research.google.com/github/stavco9/neuralnetworks-exc3/blob/main/a3_new.ipynb\" target=\"_parent\"><img src=\"https://colab.research.google.com/assets/colab-badge.svg\" alt=\"Open In Colab\"/></a>"
      ]
    },
    {
      "cell_type": "markdown",
      "id": "e8be8cbc-53d9-4c1b-bde5-17d0d95e930c",
      "metadata": {
        "id": "e8be8cbc-53d9-4c1b-bde5-17d0d95e930c"
      },
      "source": [
        "# Student:\n",
        "## Stav Cohen - 316492776"
      ]
    },
    {
      "cell_type": "markdown",
      "id": "5a9cc8f0",
      "metadata": {
        "id": "5a9cc8f0"
      },
      "source": [
        "# Assingment 3: Shaikspear Generator"
      ]
    },
    {
      "cell_type": "markdown",
      "id": "ad0ef68b",
      "metadata": {
        "id": "ad0ef68b"
      },
      "source": [
        "## Introduction\n",
        "\n",
        "Your task is to build a transformer model from scratch and train it on Shakespeare's works. By the end of this assignment, you'll implement the core concepts behind transformers - the architecture that powers modern language models like GPT, BERT, and many others.\n",
        "\n",
        "### Overview of Transformer Architecture\n",
        "\n",
        "Transformers revolutionized natural language processing by introducing the self-attention mechanism, which allows the model to process all positions in a sequence simultaneously, rather than sequentially like RNNs. The key innovations include:\n",
        "\n",
        "1. **Self-Attention**: Allows each position to attend to all positions in the previous layer\n",
        "2. **Multi-Head Attention**: Runs multiple attention operations in parallel\n",
        "3. **Positional Encoding**: Adds information about the position of tokens in the sequence\n",
        "4. **Feed-Forward Networks**: Processes the attended features\n",
        "5. **Layer Normalization**: Stabilizes training of deep networks\n",
        "6. **Residual Connections**: Helps with gradient flow in deep networks\n",
        "\n",
        "### What We're Building\n",
        "\n",
        "We'll implement a simplified GPT2-style (decoder-only) transformer that can:\n",
        "- Take a sequence of Shakespeare text as input\n",
        "- Predict the next character or word in the sequence\n",
        "- Generate new text in Shakespeare's style\n",
        "\n",
        "Let's begin by setting up our environment and loading the Shakespeare dataset!"
      ]
    },
    {
      "cell_type": "markdown",
      "id": "542f4bcb",
      "metadata": {
        "id": "542f4bcb"
      },
      "source": [
        "## Your Tasks\n",
        "\n",
        "Complete all the **TODO** sections in the provided code to build a working transformer model that can generate Shakespeare-style text.\n",
        "\n",
        "### Step-by-Step Instructions\n",
        "\n",
        "#### 1. **Read and Understand First**\n",
        "- **Before coding anything**, carefully read through the entire notebook\n",
        "- Pay special attention to the explanatory sections that describe:\n",
        "  - How transformers work\n",
        "  - The difference between encoder and decoder architectures\n",
        "  - The role of attention mechanisms\n",
        "  - Why we use masking in decoder blocks\n",
        "\n",
        "#### 2. **Complete the TODO Tasks in Order**\n",
        "\n",
        "**TODO 1: Character Tokenizer** (`CharacterTokenizer` class)\n",
        "- Implement character-to-index and index-to-character mappings\n",
        "- Create `encode()` and `decode()` methods\n",
        "- Test your tokenizer works correctly\n",
        "\n",
        "**TODO 2: Dataset Preparation**\n",
        "- Convert text to tensor format\n",
        "- Understand the input-target relationship for next-token prediction\n",
        "\n",
        "**TODO 3: Dataset Class** (`ShakespeareDataset`)\n",
        "- Implement `__getitem__()` method to generate training sequences\n",
        "- Ensure proper input-target shifting (input: \"To be or\", target: \"o be or \")\n",
        "\n",
        "**TODO 4: Multi-Layer Perceptron** (`Mlp` class)\n",
        "- Build a simple feed-forward network\n",
        "- Use GELU activation and proper dimensions (embed_size → 4*embed_size → embed_size)\n",
        "\n",
        "**TODO 5: Self-Attention Block** (`SelfAttentionBlock`)\n",
        "- **This is the most complex part** - implement the complete attention mechanism:\n",
        "  - Generate Query, Key, Value matrices\n",
        "  - Reshape for multi-head processing\n",
        "  - Compute attention scores and apply causal masking\n",
        "  - Apply softmax and combine with values\n",
        "  - Concatenate multi-head results and project output\n",
        "- Follow the detailed step-by-step guide provided in the comments\n",
        "\n",
        "**TODO 6: Transformer Block** (`Block` class)\n",
        "- Combine attention and MLP with residual connections\n",
        "- Apply layer normalization correctly\n",
        "\n",
        "**TODO 7: Full GPT-2 Model** (`GPT2` class)\n",
        "- Implement the complete forward pass\n",
        "- Combine token embeddings, positional embeddings, transformer blocks, and output projection\n",
        "- Handle loss computation for training\n",
        "\n",
        "**TODO 8: Text Generation Pipeline** (`pipeline` function)\n",
        "- Implement top-k sampling for text generation\n",
        "- Handle autoregressive generation (one token at a time)\n",
        "\n",
        "# 3. **Explain your code**\n",
        "- After completing each section, write in a markdown section with an explanation of how your code works and why you made certain design choices\n",
        "\n",
        "\n",
        "### Success Criteria\n",
        "\n",
        "You'll know you're successful when:\n",
        "- [v] All TODO sections are completed without errors\n",
        "- [v] The model trains successfully (loss decreases over time)\n",
        "- [v] Generated text resembles Shakespeare's style (Dont expect perfection, It should be english text with some Shakespearean flair, probably with some nonsense or non coherent phrases)\n",
        "- [v] You can explain how each component works\n",
        "\n",
        "### 💡 Learning Goals\n",
        "\n",
        "By the end of this assignment, you should understand:\n",
        "- How transformers process sequential data\n",
        "- The role of attention in capturing relationships between tokens\n",
        "- Why masking is crucial for autoregressive models\n",
        "- How modern language models generate text\n",
        "- The architecture behind models like GPT, Claude, and ChatGPT\n",
        "\n",
        "Remember: This assignment is about understanding, not just completing code. Take your time to read and comprehend each section before implementing the TODOs."
      ]
    },
    {
      "cell_type": "code",
      "execution_count": 44,
      "id": "6a1d0dbe",
      "metadata": {
        "id": "6a1d0dbe"
      },
      "outputs": [],
      "source": [
        "# imports\n",
        "import torch\n",
        "from torch.utils.data import Dataset, DataLoader\n",
        "from torch import nn\n",
        "import torch.nn.functional as F\n",
        "import kagglehub\n",
        "import os\n",
        "import pandas as pd\n",
        "import matplotlib.pyplot as plt\n",
        "from tqdm import tqdm\n",
        "import time\n",
        "import numpy as np\n",
        "from collections import Counter, deque\n",
        "from torch.utils.tensorboard import SummaryWriter\n",
        "torch.manual_seed(42)\n",
        "\n",
        "device = torch.device(\"cuda\" if torch.cuda.is_available() else \"cpu\")\n",
        "\n",
        "LOAD_PRETRAINED_MODEL = False"
      ]
    },
    {
      "cell_type": "markdown",
      "id": "8607a766",
      "metadata": {
        "id": "8607a766"
      },
      "source": [
        "## Load  shakespeare.text file"
      ]
    },
    {
      "cell_type": "code",
      "execution_count": 2,
      "id": "tIAEbY7mRBij",
      "metadata": {
        "colab": {
          "base_uri": "https://localhost:8080/"
        },
        "id": "tIAEbY7mRBij",
        "outputId": "d3fe690e-4610-4cd1-a7ca-af12294ba4e6"
      },
      "outputs": [
        {
          "output_type": "stream",
          "name": "stdout",
          "text": [
            "  % Total    % Received % Xferd  Average Speed   Time    Time     Time  Current\n",
            "                                 Dload  Upload   Total   Spent    Left  Speed\n",
            "100 1089k  100 1089k    0     0  2183k      0 --:--:-- --:--:-- --:--:-- 2182k\n"
          ]
        }
      ],
      "source": [
        "!curl https://raw.githubusercontent.com/stavco9/neuralnetworks-exc3/refs/heads/main/shakespeare.txt -O"
      ]
    },
    {
      "cell_type": "code",
      "execution_count": 3,
      "id": "3794e0a2",
      "metadata": {
        "colab": {
          "base_uri": "https://localhost:8080/"
        },
        "id": "3794e0a2",
        "outputId": "b559535e-d047-458b-eb52-31a6fa26029c"
      },
      "outputs": [
        {
          "output_type": "stream",
          "name": "stdout",
          "text": [
            "Length of text: 1115394 characters\n",
            "Number of unique characters: 65\n",
            "First 100 characters:\n",
            "First Citizen:\n",
            "Before we proceed any further, hear me speak.\n",
            "\n",
            "All:\n",
            "Speak, speak.\n",
            "\n",
            "First Citizen:\n",
            "You\n"
          ]
        }
      ],
      "source": [
        "f_name = 'shakespeare.txt' # if the file in different location, change this line\n",
        "with open('shakespeare.txt', \"r\") as f:\n",
        "    text = f.read()\n",
        "\n",
        "print(f\"Length of text: {len(text)} characters\")\n",
        "print(f\"Number of unique characters: {len(set(text))}\")\n",
        "print(f\"First 100 characters:\\n{text[:100]}\")"
      ]
    },
    {
      "cell_type": "markdown",
      "id": "0a73ad71",
      "metadata": {
        "id": "0a73ad71"
      },
      "source": [
        "## Data Preparation"
      ]
    },
    {
      "cell_type": "markdown",
      "id": "84578904",
      "metadata": {
        "id": "84578904"
      },
      "source": [
        "# Dataset Encoding and Tokenization\n",
        "\n",
        "## Understanding Text Encoding for Transformers\n",
        "\n",
        "Before we can feed text into our transformer model, we need to convert it into numerical representations. This process involves:\n",
        "1. **Tokenization**: Breaking text into smaller units (characters, subwords, or words)\n",
        "2. **Vocabulary Building**: Creating a mapping between tokens and unique integers\n",
        "3. **Encoding**: Converting text sequences into sequences of integers\n",
        "4. **Decoding**: Converting integer sequences back to readable text\n",
        "\n",
        "### Character-Level vs Word-Level Tokenization\n",
        "\n",
        "For this assignment, we'll use **character-level tokenization**\n",
        "\n",
        "\n",
        "Let's create a simple character-level tokenizer:\n",
        "\n"
      ]
    },
    {
      "cell_type": "code",
      "execution_count": 4,
      "id": "d7918b20",
      "metadata": {
        "colab": {
          "base_uri": "https://localhost:8080/"
        },
        "id": "d7918b20",
        "outputId": "b02d118c-be8d-4fcd-9ef7-b83f2fa89e2c"
      },
      "outputs": [
        {
          "output_type": "stream",
          "name": "stdout",
          "text": [
            "Tokenizer vocab_size: 65\n",
            "Original: To be or not to be\n",
            "Encoded: [32, 53, 1, 40, 43, 1, 53, 56, 1, 52, 53, 58, 1, 58, 53, 1, 40, 43]\n",
            "Decoded: To be or not to be\n"
          ]
        }
      ],
      "source": [
        "class CharacterTokenizer:\n",
        "    def __init__(self, text):\n",
        "        \"\"\"\n",
        "        Initialize tokenizer by building vocabulary from input text.\n",
        "\n",
        "        Args:\n",
        "            text: String containing all training text\n",
        "        \"\"\"\n",
        "        # Get all unique characters and sort them\n",
        "        self.chars = sorted(list(set(text)))\n",
        "        self.vocab_size = len(self.chars)\n",
        "\n",
        "        self.chars2integers = {char: idx for idx, char in enumerate(self.chars)}\n",
        "        self.integers2chars = {idx: char for idx, char in enumerate(self.chars)}\n",
        "\n",
        "\n",
        "    def encode(self, text):\n",
        "        \"\"\"Convert string to list of integers\"\"\"\n",
        "        return [self.chars2integers[char] for char in text] # Encoder: Take a string, output a list of integers\n",
        "\n",
        "    def decode(self, indices):\n",
        "        \"\"\"Convert list of integers back to string\"\"\"\n",
        "        return ''.join([self.integers2chars[idx] for idx in indices]) # Decoder: Take a list of integers, output a string\n",
        "\n",
        "    def __len__(self):\n",
        "        \"\"\"Return the size of the vocabulary\"\"\"\n",
        "        return self.vocab_size\n",
        "\n",
        "# Assuming your text is loaded in a variable called 'text'\n",
        "# Create the tokenizer\n",
        "tokenizer = CharacterTokenizer(text)\n",
        "\n",
        "# Test encoding and decoding\n",
        "sample_text = \"To be or not to be\"\n",
        "encoded = tokenizer.encode(sample_text)\n",
        "decoded = tokenizer.decode(encoded)\n",
        "\n",
        "print(\"Tokenizer vocab_size:\", len(tokenizer))\n",
        "print(f\"Original: {sample_text}\")\n",
        "print(f\"Encoded: {encoded}\")\n",
        "print(f\"Decoded: {decoded}\")\n",
        "\n",
        "\n"
      ]
    },
    {
      "cell_type": "markdown",
      "id": "83f03695-ded1-427c-b4f4-22d53364434c",
      "metadata": {
        "id": "83f03695-ded1-427c-b4f4-22d53364434c"
      },
      "source": [
        "### TODO 1 - Summary\n",
        "TODO 1 part is responsible for generating the dictionary (Tokenizer) we're going to use during train and inference.\n",
        "The dictionary is built from all the characters in the shakespeare text file, and each char has a bi-directional translation with an integer that describe it (encode <-> decode):\n",
        "\n",
        "Encode: Characters to integers\n",
        "</br>\n",
        "Decode: Integers back to characters\n",
        "\n",
        "We should use integers rather than characters because tensors works with numeric vectors and neural networks require numeric inputs"
      ]
    },
    {
      "cell_type": "code",
      "execution_count": 5,
      "id": "a55cc32e",
      "metadata": {
        "colab": {
          "base_uri": "https://localhost:8080/",
          "height": 571
        },
        "id": "a55cc32e",
        "outputId": "24edcd08-203a-4703-bbfb-33b1d9cb37a8"
      },
      "outputs": [
        {
          "output_type": "display_data",
          "data": {
            "text/plain": [
              "<Figure size 1200x600 with 1 Axes>"
            ],
            "image/png": "[encoded data removed]"
          },
          "metadata": {}
        }
      ],
      "source": [
        "# plot the distribution of character frequencies\n",
        "char_counts = Counter(text)\n",
        "def plot_char_distribution(char_counts):\n",
        "    \"\"\"Plot the distribution of character frequencies.\"\"\"\n",
        "    chars, counts = zip(*char_counts.most_common(30))  # Get top 30 characters\n",
        "    plt.figure(figsize=(12, 6))\n",
        "    plt.bar(chars, counts)\n",
        "    plt.xlabel('Characters')\n",
        "    plt.ylabel('Frequency')\n",
        "    plt.title('Character Frequency Distribution')\n",
        "    plt.xticks(rotation=45)\n",
        "    plt.show()\n",
        "plot_char_distribution(char_counts)"
      ]
    },
    {
      "cell_type": "markdown",
      "id": "460ab122",
      "metadata": {
        "id": "460ab122"
      },
      "source": [
        "Now let's prepare our dataset for training:"
      ]
    },
    {
      "cell_type": "code",
      "execution_count": 6,
      "id": "2827f00c",
      "metadata": {
        "colab": {
          "base_uri": "https://localhost:8080/"
        },
        "id": "2827f00c",
        "outputId": "bc99bddb-b2ba-4ed6-bee5-1925a3c8167a"
      },
      "outputs": [
        {
          "output_type": "stream",
          "name": "stdout",
          "text": [
            "Dataset shape: torch.Size([1115394])\n",
            "Training set size: 1,003,854 characters\n",
            "Validation set size: 111,540 characters\n"
          ]
        }
      ],
      "source": [
        "\n",
        "## TODO: Create a torch tensor from the encoded text\n",
        "data = torch.tensor(tokenizer.encode(text))\n",
        "\n",
        "print(f\"Dataset shape: {data.shape}\")\n",
        "\n",
        "# Split into train and validation sets (90/10 split)\n",
        "n = int(0.9 * len(data))\n",
        "train_data = data[:n]\n",
        "val_data = data[n:]\n",
        "\n",
        "print(f\"Training set size: {len(train_data):,} characters\")\n",
        "print(f\"Validation set size: {len(val_data):,} characters\")\n"
      ]
    },
    {
      "cell_type": "markdown",
      "id": "9e2baf7c-f217-4931-aca1-c2a6a7a3841d",
      "metadata": {
        "id": "9e2baf7c-f217-4931-aca1-c2a6a7a3841d"
      },
      "source": [
        "### TODO 2 - Summary\n",
        "In TODO 2 we take our textual dataset (A Shakespeare text file) and encode it into a long tensor. After that, we split the tensor into train (90%) and validation (10%) sets"
      ]
    },
    {
      "cell_type": "markdown",
      "id": "186d1029",
      "metadata": {
        "id": "186d1029"
      },
      "source": [
        "# Understanding Sequence Generation in Transformers\n",
        "\n",
        "## What is a Transformer Trained to Do?\n",
        "\n",
        "At its core, a transformer language model is trained to perform **next-token prediction**. This simple objective - predicting what comes next - enables the model to generate coherent text, understand language patterns, and even appear to \"understand\" context.\n",
        "\n",
        "### The Autoregressive Nature of Language Modeling\n",
        "\n",
        "Transformers for text generation are **autoregressive**, meaning they generate text one token at a time, using previously generated tokens as context for predicting the next one.\n",
        "\n",
        "```\n",
        "Given: \"To be or not to\"\n",
        "Predict: \"be\" (next token)\n",
        "\n",
        "Given: \"To be or not to be\"  \n",
        "Predict: \",\" (next token)\n",
        "\n",
        "Given: \"To be or not to be,\"\n",
        "Predict: \"that\" (next token)\n",
        "```\n",
        "\n",
        "### Training vs Generation: Two Different Processes\n",
        "\n",
        "#### During Training (Assume not a character-level tokenizer for simplicity....)\n",
        "```python\n",
        "# Training sees the full correct sequence\n",
        "Input:  [\"To\", \"be\", \"or\", \"not\", \"to\", \"be\", \",\", \"that\"]\n",
        "Target: [\"be\", \"or\", \"not\", \"to\", \"be\", \",\", \"that\", \"is\"]\n",
        "\n",
        "# The model learns in parallel:\n",
        "Position 0: Given \"To\" → predict \"be\"\n",
        "Position 1: Given \"To be\" → predict \"or\"\n",
        "Position 2: Given \"To be or\" → predict \"not\"\n",
        "... (all positions simultaneously)\n",
        "```\n",
        "\n",
        "#### During Generation (Autoregressive)\n",
        "```python\n",
        "# Generation builds up token by token\n",
        "Step 1: Input: \"To\" → Model predicts: \"be\"\n",
        "Step 2: Input: \"To be\" → Model predicts: \"or\"  \n",
        "Step 3: Input: \"To be or\" → Model predicts: \"not\"\n",
        "... (sequential generation)\n",
        "```\n",
        "\n",
        "### The Probability Distribution\n",
        "\n",
        "At each step, the transformer doesn't just predict one token - it outputs a **probability distribution** over the entire vocabulary:\n",
        "\n",
        "```python\n",
        "# Example output probabilities after \"To be or not to\"\n",
        "{\n",
        "    \"be\": 0.7,      # High probability - this phrase often repeats\n",
        "    \"die\": 0.1,     # Possible alternative\n",
        "    \"sleep\": 0.05,  # Another thematic alternative\n",
        "    \"live\": 0.03,   # Less likely but possible\n",
        "    \",\": 0.02,      # Could end the phrase here\n",
        "    ... (probabilities for all tokens in vocabulary)\n",
        "}\n",
        "```\n",
        "\n",
        "\n",
        "\n",
        "### Context Window and Attention\n",
        "\n",
        "The transformer's **context window** (block_size) determines how much previous text it can \"see\" when making predictions:\n",
        "\n",
        "### What the Model Actually Learns\n",
        "\n",
        "Through next-token prediction, the transformer learns:\n",
        "\n",
        "1. **Syntax and Grammar**\n",
        "   - \"To be or\" → likely followed by \"not\"\n",
        "   - Verb conjugations, sentence structure\n",
        "\n",
        "2. **Semantic Relationships**\n",
        "   - \"king\" often appears near \"queen\", \"throne\", \"crown\"\n",
        "   - Thematic consistency within passages\n",
        "\n",
        "3. **Style and Register**\n",
        "   - Shakespearean vocabulary and phrasing\n",
        "   - Iambic pentameter patterns\n",
        "   - Archaic grammatical structures\n",
        "\n",
        "4. **Long-range Dependencies**\n",
        "   - Rhyme schemes across lines\n",
        "   - Character names and relationships\n",
        "   - Plot consistency\n",
        "\n"
      ]
    },
    {
      "cell_type": "markdown",
      "id": "8a8054fc",
      "metadata": {
        "id": "8a8054fc"
      },
      "source": [
        "In this assinigment, we train the model to predict the next character given the previous characters:\n",
        "- **Input**: \"To be or\"\n",
        "- **Target**: \"o be or \"\n",
        "In the above exmpale there are 8 trainig examples:\n",
        "1. 'T' -> 'o'\n",
        "2. 'To' -> ' '\n",
        "3. 'To ' -> 'b'\n",
        "4. 'To b' -> 'e'\n",
        "5. 'To be' -> ' '\n",
        "6. 'To be o' -> 'r'\n",
        "8. 'To be or' -> ' '\n",
        "\n",
        "Pay attention that the transformer will process all of them simultaneously, allowing it to learn the relationships between characters and their positions in the sequence. Also notice how the target is shifted by one position. This teaches the model to predict what comes next.\n",
        "\n",
        "Lets create a torch Dataset that generates these input-target pairs from our text data."
      ]
    },
    {
      "cell_type": "code",
      "execution_count": 7,
      "id": "18c85788",
      "metadata": {
        "id": "18c85788"
      },
      "outputs": [],
      "source": [
        "class ShakespeareDataset(Dataset):\n",
        "    \"\"\"\n",
        "    PyTorch Dataset for Shakespeare text data.\n",
        "    Generates overlapping sequences for language modeling.\n",
        "    \"\"\"\n",
        "\n",
        "    def __init__(self, data, block_size):\n",
        "        \"\"\"\n",
        "        Args:\n",
        "            data: Tensor of encoded text tokens\n",
        "            block_size: Length of each sequence (context length)\n",
        "        \"\"\"\n",
        "        self.data = data\n",
        "        self.block_size = block_size\n",
        "\n",
        "        # Calculate number of possible sequences\n",
        "        self.num_sequences = len(data) - block_size\n",
        "\n",
        "        if self.num_sequences <= 0:\n",
        "            raise ValueError(f\"Data length ({len(data)}) must be greater than block_size ({block_size})\")\n",
        "\n",
        "    def __len__(self):\n",
        "        \"\"\"Return the number of possible sequences\"\"\"\n",
        "        return self.num_sequences\n",
        "\n",
        "    def __getitem__(self, idx):\n",
        "        \"\"\"\n",
        "        Get a single sequence and its target.\n",
        "\n",
        "        Args:\n",
        "            idx: Index of the sequence start position\n",
        "\n",
        "        Returns:\n",
        "            tuple: (input_sequence, target_sequence)\n",
        "        \"\"\"\n",
        "        return self.data[idx : idx + self.block_size], self.data[idx + 1 : idx + 1 + self.block_size]"
      ]
    },
    {
      "cell_type": "markdown",
      "id": "4c33da7f",
      "metadata": {
        "id": "4c33da7f"
      },
      "source": [
        "### Example Dataset Class"
      ]
    },
    {
      "cell_type": "code",
      "execution_count": 8,
      "id": "f195c043",
      "metadata": {
        "colab": {
          "base_uri": "https://localhost:8080/"
        },
        "id": "f195c043",
        "outputId": "7cd1674b-5b19-4b95-85a7-24d80e37e896"
      },
      "outputs": [
        {
          "output_type": "stream",
          "name": "stdout",
          "text": [
            "Training sequences available: 1,003,726\n",
            "Validation sequences available: 111,412\n",
            "==================================================\n",
            "Example of a training batch instance:\n",
            "\n",
            "Input:  'ness! serious vanity!\n",
            "Mis-shapen chaos of well-seeming forms!\n",
            "Feather of lead, bright smoke, cold fire,\n",
            "sick health!\n",
            "Still-wakin'\n",
            "==================================================\n",
            "Target: 'ess! serious vanity!\n",
            "Mis-shapen chaos of well-seeming forms!\n",
            "Feather of lead, bright smoke, cold fire,\n",
            "sick health!\n",
            "Still-waking'\n"
          ]
        }
      ],
      "source": [
        "num_workers = 2\n",
        "shuffle_train = True\n",
        "block_size = 128\n",
        "batch_size = 16\n",
        "train_dataset = ShakespeareDataset(train_data, block_size)\n",
        "val_dataset = ShakespeareDataset(val_data, block_size)\n",
        "\n",
        "print(f\"Training sequences available: {len(train_dataset):,}\")\n",
        "print(f\"Validation sequences available: {len(val_dataset):,}\")\n",
        "print(\"=\" * 50)\n",
        "\n",
        "# Create dataloaders\n",
        "train_loader = DataLoader(\n",
        "    train_dataset,\n",
        "    batch_size=batch_size,\n",
        "    shuffle=shuffle_train,\n",
        "    num_workers=num_workers,\n",
        "    drop_last=True  # Drop last incomplete batch for consistent batch sizes\n",
        ")\n",
        "\n",
        "val_loader = DataLoader(\n",
        "    val_dataset,\n",
        "    batch_size=batch_size,\n",
        "    shuffle=False,  # Don't shuffle validation data\n",
        "    num_workers=num_workers,\n",
        "    drop_last=False\n",
        ")\n",
        "\n",
        "x, y = next(iter(train_loader))\n",
        "print(\"Example of a training batch instance:\", end='\\n\\n')\n",
        "print(f\"Input:  '{tokenizer.decode(x[0].tolist())}'\") # Decode the first input sequence\n",
        "print(\"=\" * 50)\n",
        "print(f\"Target: '{tokenizer.decode(y[0].tolist())}'\") # Decode the first target sequence"
      ]
    },
    {
      "cell_type": "markdown",
      "id": "2cec0666-febe-4929-9ce6-628dc6f34da9",
      "metadata": {
        "id": "2cec0666-febe-4929-9ce6-628dc6f34da9"
      },
      "source": [
        "### TODO 3 - Summary\n",
        "In TODO 3 we build a custom DataLoader class - Which going to be the final input to our neural network\n",
        "\n",
        "The class is a standard class for a textual dataset with next token prediction.\n",
        "\n",
        "Each iteration in the DataLoader is called a \"sequence\", and the size of each sequence is configured under \"batch_size\" parameter.\n",
        "\n",
        "The total number of iterations (the length) of the dataloader is the total dataset length minus the batch size (since each iteration we make a step of exactly one index)\n",
        "\n",
        "In each iteration, as every DataLoader, we get the input (x) and the label / target (y). Here, the input (x) is the text from (curr_index -> curr_index + batch_size), and the target (y) is a \"shift-right\" of the text with exactly one character (curr_sequence + 1 -> curr_sequence + batch_size + 1)\n",
        "\n",
        "We create an example implementation of the DataLoader in order to \"Unit test\" it -> we make a sample of one iteration, and then decode and print both the input (x) and the target (y). We can see that the target is exactly a one character \"shift-right\" of the text\n",
        "\n",
        "The input (x) and target (y) are useful for the training, where the next characters in the target are the ground truth of the Transofmer's next token prediction"
      ]
    },
    {
      "cell_type": "markdown",
      "id": "1c35756c",
      "metadata": {
        "id": "1c35756c"
      },
      "source": [
        "## Transformer Architecture Overview\n",
        "The transformer is a neural network architecture that revolutionized how AI systems process language. Think of it as a sophisticated pattern-matching system that can understand relationships between words in a sentence, regardless of how far apart they are.\n",
        "\n",
        "**The Core Innovation: Attention**\n",
        "\n",
        "The transformer's key breakthrough is something called \"attention.\" Instead of reading text word-by-word like older systems, transformers look at all words simultaneously and figure out which ones are most relevant to each other. It's like having a conversation where you can instantly consider every word someone has said, not just the most recent ones.\n",
        "\n",
        "**Types of Attention Mechanisms**\n",
        "\n",
        "There are three main types of attention used in transformers:\n",
        "\n",
        "- **Self-Attention(Bidirectional)**: Each position in a sequence attends to all positions in the same sequence. This is like each word asking \"which other words in this sentence are most relevant to understanding me?\"\n",
        "\n",
        "- **Cross-Attention**: Positions in one sequence (like a decoder) attend to positions in a different sequence (like an encoder). This is used in encoder-decoder models where the decoder needs to \"look at\" the encoder's representations while generating output.\n",
        "\n",
        "- **Masked Self-Attention**: A restricted form of self-attention where each position can only attend to previous positions, not future ones. This maintains the causal structure needed for text generation.\n",
        "\n",
        "**How Masking Controls Encoder vs Decoder Behavior**\n",
        "\n",
        "The key difference between encoder and decoder blocks lies in their attention masking:\n",
        "\n",
        "- **Encoder blocks** use **bidirectional self-attention** with no masking. Each token can attend to all other tokens in the sequence, allowing the model to build rich contextual representations by considering the full context.\n",
        "\n",
        "- **Decoder blocks** use **causal masking** (also called autoregressive masking). Each token can only attend to itself and previous tokens, never future ones. This prevents the model from \"cheating\" during training by looking ahead, forcing it to learn to predict the next token based only on what came before.\n",
        "\n",
        "**How It Works**\n",
        "\n",
        "The original transformer has two main parts:\n",
        "- **Encoder**: Takes input text and creates rich representations that capture meaning and context using bidirectional attention\n",
        "- **Decoder**: Uses those representations and generates output text using causal attention plus cross-attention to the encoder\n",
        "\n",
        "Both parts use \"self-attention\" layers that let each word position \"attend to\" or focus on other positions. This creates a web of connections showing which words are most important for understanding each other.\n",
        "\n",
        "**Modern Simplification: Decoder-Only Architecture**\n",
        "\n",
        "However, for many real-world applications, researchers discovered that using only the decoder portion is often sufficient and more efficient. This **decoder-only** approach is what powers popular language models like GPT, Claude, and most modern conversational AI systems. Instead of having separate encoder and decoder stacks, these models use multiple decoder blocks that generate text autoregressively - predicting one token at a time based on all previous tokens using causal masking. This is the architecture we'll be building in this notebook.\n",
        "\n",
        "**Key Components**\n",
        "\n",
        "- **Multi-head attention**: Instead of just one attention mechanism, it runs several in parallel, each potentially focusing on different types of relationships\n",
        "- **Feed-forward networks**: Simple neural networks that process the attention outputs\n",
        "- **Layer normalization and residual connections**: Technical elements that help training stability\n",
        "- **Positional encoding**: Since attention doesn't inherently understand word order, this adds position information\n",
        "\n",
        "**Why It Matters**\n",
        "\n",
        "Transformers can process text in parallel rather than sequentially, making them much faster to train. They're also better at capturing long-range dependencies - understanding how a word at the beginning of a paragraph relates to one at the end. The decoder-only variant proves particularly effective for text generation tasks, as it learns to model the probability distribution of natural language through next-token prediction. The masking mechanism is crucial here - it ensures the model learns proper causal relationships and can generate coherent text without access to future information. This architecture powers modern language models like GPT, BERT, and others that have transformed natural language processing."
      ]
    },
    {
      "cell_type": "markdown",
      "id": "29cef6f9",
      "metadata": {
        "id": "29cef6f9"
      },
      "source": [
        "<img src=\"https://heidloff.net/assets/img/2023/02/transformers.png\">"
      ]
    },
    {
      "cell_type": "markdown",
      "id": "c96452a0",
      "metadata": {
        "id": "c96452a0"
      },
      "source": [
        "### Feed-Forward Network (MLP)\n",
        "Lets start from from simple to complicated. As the diagram shows, the MLP is a simple feed-forward neural network that processes the output of the attention mechanism. In the GPT2 architecture that we are following here it consists of two linear transformations with a GeLU activation in between. The MLp layer streach the dimention of the embedding from `embed_size` to `4*embed_size` and then back to `embed_size`.\n",
        "```python"
      ]
    },
    {
      "cell_type": "markdown",
      "id": "a9efa430",
      "metadata": {
        "id": "a9efa430"
      },
      "source": [
        "### MLP"
      ]
    },
    {
      "cell_type": "code",
      "execution_count": 9,
      "id": "7f2be3ca",
      "metadata": {
        "id": "7f2be3ca"
      },
      "outputs": [],
      "source": [
        "class Mlp(nn.Module):\n",
        "    def __init__(self, config):\n",
        "        super(Mlp, self).__init__()\n",
        "        self.embed_size = config.embed_size\n",
        "        self.l1 = nn.Linear(self.embed_size ,4*self.embed_size) # first layer\n",
        "        self.gelu = nn.GELU() # activation function\n",
        "        self.l2 = nn.Linear(4*self.embed_size, self.embed_size) # second layer\n",
        "\n",
        "    def forward(self, x):\n",
        "        out = self.l1(x)\n",
        "        out = self.gelu(out)\n",
        "        out = self.l2(out)\n",
        "\n",
        "        return out"
      ]
    },
    {
      "cell_type": "markdown",
      "id": "74e66253-33e1-4ece-8af0-b3fb6acf0324",
      "metadata": {
        "id": "74e66253-33e1-4ece-8af0-b3fb6acf0324"
      },
      "source": [
        "## TODO 4 - Summary\n",
        "This part is the MLP (Feed-Forward) Block of the network.\n",
        "\n",
        "The MLP layer is coming after the Self-Attention layer (As we'll see later)\n",
        "\n",
        "This layer is executed per token:\n",
        "* The input is an embedding vector of the token with a size of *embed size*\n",
        "* The first layer is a linear one that extends the embedding to 4-time of the original size\n",
        "* The second layer, also linear, turns back the embedding to it's original size\n",
        "* Between the first and second layer there is a non-linear activation function (Gelu)\n",
        "\n",
        "The MLP part allows the Transformer to:\n",
        "* Learn richer transformations of token representations\n",
        "* Refine or distort information the attention has gathered\n",
        "* Help the model to learn abstract representations about the token (like syntax, semantics, etc.)\n",
        "\n",
        "The embedding size extension makes more parameters and more expressive power, and the Gelu layer found to have better performance and be more probablistic than simple Relu\n",
        "\n",
        "It was a quite straight-forward part with no any major issues"
      ]
    },
    {
      "cell_type": "markdown",
      "id": "f7e9d3a1",
      "metadata": {
        "id": "f7e9d3a1"
      },
      "source": [
        "## Multi Head Masked Self-Attention Implementation\n",
        "\n",
        "The self-attention mechanism is the core of the transformer architecture, allowing the model to weigh the importance of different words in a sequence relative to each other. This guide walks you through completing the provided implementation.\n",
        "\n",
        "### Understanding the Provided Setup\n",
        "\n",
        "You're given a `SelfAttentionBlock` class with the initialization already complete. Here's what's provided:\n",
        "\n",
        "**Linear Layers**:\n",
        "- `self.c_atten`: Creates Q, K, V matrices simultaneously (outputs `3 * head_size * num_heads`)\n",
        "- `self.c_proj`: Final output projection back to embedding size\n",
        "\n",
        "**Causal Mask**:\n",
        "- `self.bias`: Pre-computed lower triangular mask of shape `(1, 1, block_size, block_size)`\n",
        "- Prevents attending to future positions (essential for decoder behavior)\n",
        "\n",
        "**Key Constraint**: `head_size * num_heads = embed_size` (this is verified in the assertion)\n",
        "\n",
        "\n",
        "### Step-by-Step Implementation\n",
        "\n",
        "1. **Input Processing**: Your input tensor `x` has shape `(B, T, C)` where:\n",
        "   - `B` = batch size (number of sequences processed together)\n",
        "   - `T` = sequence length (number of tokens in each sequence)  \n",
        "   - `C` = embedding size (dimension of each token's representation)\n",
        "\n",
        "2. **Generate Q, K, V Matrices**:\n",
        "   - Apply linear transformation: `kqv = self.linear_layer(x)`\n",
        "   - Output shape: `(B, T, 3 * embed_size)`\n",
        "   - Split into three equal parts: `k, q, v = kqv.split(embed_size, dim=2)`\n",
        "   - Each tensor now has shape: `(B, T, embed_size)`\n",
        "\n",
        "3. **Reshape for Multi-Head Attention**: Transform each tensor to separate the attention heads:\n",
        "   - Reshape `k, q, v` tensors: `(B, T, embed_size)` → `(B, T, num_heads, head_size)`\n",
        "   - Transpose dimensions: `(B, T, num_heads, head_size)` → `(B, num_heads, T, head_size)`\n",
        "   - This allows processing all heads in parallel\n",
        "\n",
        "4. **Compute Attention Scores**: Calculate how much each position should attend to others:\n",
        "   - Matrix multiply queries and keys: `scores = q @ k.transpose(-2, -1)`\n",
        "   - Scale by head dimension: `scores = scores / sqrt(head_size)`\n",
        "   - Result shape: `(B, num_heads, T, T)` - each position has scores for all positions\n",
        "\n",
        "5. **Apply Causal Masking**: Prevent attending to future positions:\n",
        "   - Set future positions to negative infinity: `scores.masked_fill(self.mask == 0, float('-inf'))`\n",
        "   - This ensures softmax gives zero probability to future positions\n",
        "\n",
        "6. **Convert to Probabilities**: Apply softmax to get attention weights:\n",
        "   - `attention_weights = softmax(scores, dim=-1)`\n",
        "   - Shape remains: `(B, num_heads, T, T)`\n",
        "   - Each row now sums to 1.0\n",
        "\n",
        "7. **Apply Attention to Values**: Use weights to combine value vectors:\n",
        "   - `output = attention_weights @ v`\n",
        "   - Output shape: `(B, num_heads, T, head_size)`\n",
        "\n",
        "8. **Concatenate Multi-Head Results**: Combine all attention heads:\n",
        "   - Transpose back: `(B, num_heads, T, head_size)` → `(B, T, num_heads, head_size)`\n",
        "   - Reshape to flatten heads: `(B, T, num_heads, head_size)` → `(B, T, embed_size)`\n",
        "   - Ensure tensor is contiguous in memory before reshaping\n",
        "\n",
        "9. **Final Output Projection**: Apply final linear transformation:\n",
        "   - `final_output = self.output_projection(concatenated_output)`\n",
        "   - Input and output both have shape: `(B, T, embed_size)`\n",
        "\n",
        "### Key Implementation Details\n",
        "\n",
        "**Dimension Tracking**: Always verify your tensor shapes at each step. The most common bugs come from incorrect reshaping or matrix multiplication dimensions.\n",
        "\n",
        "**Memory Layout**: Use `.contiguous()` before reshaping operations to ensure proper memory layout.\n",
        "\n",
        "**Masking Strategy**: Pre-compute your causal mask during initialization and store it as a buffer to avoid recomputing it every forward pass.\n",
        "\n",
        "**Scaling Factor**: The `1/sqrt(head_size)` scaling prevents attention scores from becoming too large, which would make gradients vanish after softmax.\n",
        "\n",
        "**Efficient Computation**: Modern frameworks often provide optimized attention functions (like `scaled_dot_product_attention`) that handle steps 4-7 efficiently, but understanding the manual implementation helps you debug and customize the mechanism."
      ]
    },
    {
      "cell_type": "code",
      "execution_count": 10,
      "id": "f163eba3",
      "metadata": {
        "id": "f163eba3"
      },
      "outputs": [],
      "source": [
        "class SelfAttentionBlock(nn.Module):\n",
        "    def __init__(self, config):\n",
        "        super(SelfAttentionBlock, self).__init__()\n",
        "        assert config.embed_size % config.num_heads == 0\n",
        "\n",
        "        # self-attention values (key, query, value). pay attention that head_size * num_heads must be equal to embed_size\n",
        "        self.c_atten = nn.Linear(config.embed_size, 3*config.embed_size) # multiply by 3 to get k, q, v\n",
        "\n",
        "        # output projection\n",
        "        self.c_proj = nn.Linear(config.embed_size, config.embed_size)\n",
        "\n",
        "        self.embed_size = config.embed_size\n",
        "        self.num_heads = config.num_heads\n",
        "        self.head_size = int(config.embed_size / config.num_heads)\n",
        "\n",
        "        self.device = config.device\n",
        "\n",
        "        mask = torch.tril(torch.ones(config.block_size, config.block_size)) # Lower triangular mask for causal attention\n",
        "        mask = mask.view(1, 1, config.block_size, config.block_size) # B, 1, T, T\n",
        "        self.register_buffer('mask', mask)  # register_buffer allows the mask to be part of the model state but not a parameter to optimize\n",
        "\n",
        "    def forward(self, x):\n",
        "        #  after each line print the shape of x\n",
        "        \"\"\"        Forward pass for the self-attention block.\n",
        "        Args:\n",
        "            x: Input tensor of shape (B, T, C) where B is batch size, T is sequence length, C is embedding size\n",
        "        Returns:\n",
        "            out: Output tensor of shape (B, T, C) after self-attention and projection\n",
        "        \"\"\"\n",
        "\n",
        "        # 1. Input processing\n",
        "        B, T, C = x.shape # Batch, sequence length, embed_size\n",
        "\n",
        "        # 2. Generate Q, K, V Matrices\n",
        "        kqv = self.c_atten(x)\n",
        "        assert kqv.shape == (B, T, 3 * self.embed_size)\n",
        "        k, q, v = kqv.split(self.embed_size, dim=2)\n",
        "        assert k.shape == (B, T, self.embed_size)\n",
        "        assert q.shape == (B, T, self.embed_size)\n",
        "        assert v.shape == (B, T, self.embed_size)\n",
        "\n",
        "        # 3. Reshape for Multi-Head Attention\n",
        "        k = k.view(B, T, self.num_heads, self.head_size).transpose(1, 2)\n",
        "        q = q.view(B, T, self.num_heads, self.head_size).transpose(1, 2)\n",
        "        v = v.view(B, T, self.num_heads, self.head_size).transpose(1, 2)\n",
        "        assert k.shape == (B, self.num_heads, T, self.head_size)\n",
        "        assert q.shape == (B, self.num_heads, T, self.head_size)\n",
        "        assert v.shape == (B, self.num_heads, T, self.head_size)\n",
        "\n",
        "        # 4. Compute Attention Scores\n",
        "        scores = q @ k.transpose(-2, -1)\n",
        "        scale = torch.tensor(self.head_size).to(self.device).sqrt()\n",
        "        scores = scores / scale\n",
        "        assert scores.shape == (B, self.num_heads, T, T)\n",
        "\n",
        "        # 5. Apply Causal Masking\n",
        "        scores.masked_fill(self.mask[:, :, :T, :T] == 0, float('-inf'))\n",
        "\n",
        "        # 6. Convert to Probabilities\n",
        "        attention_weights = F.softmax(scores, dim=-1)\n",
        "\n",
        "        # 7. Apply Attention to Values\n",
        "        output = attention_weights @ v\n",
        "        assert output.shape == (B, self.num_heads, T, self.head_size)\n",
        "\n",
        "        # 8. Concatenate Multi-Head Results\n",
        "        output = output.transpose(1, 2).contiguous().view(B, T, self.embed_size)\n",
        "        assert output.shape == (B, T, self.embed_size)\n",
        "\n",
        "        # 9. Final Output Projection\n",
        "        output = self.c_proj(output)\n",
        "        assert x.shape == (B, T, self.embed_size)\n",
        "        assert output.shape == (B, T, self.embed_size)\n",
        "\n",
        "        return output\n"
      ]
    },
    {
      "cell_type": "markdown",
      "id": "60c70a22-ba31-4aed-a948-85439dac2349",
      "metadata": {
        "id": "60c70a22-ba31-4aed-a948-85439dac2349"
      },
      "source": [
        "## TODO 5 - Summary\n",
        "This part is the Self-Attention Block of the network.\n",
        "\n",
        "The Self-Attention layer is the most important layer of the transformer and it builds the relations between the tokens in the sequence\n",
        "\n",
        "This layer is executed per token:\n",
        "* The input is a 3D of embedding vectors:\n",
        "  * There are B batches of sequences (1st dimension)\n",
        "  * There are T tokens per sequence (2nd dimension)\n",
        "  * Each token is represented with an embedding size of C (3rd dimension)\n",
        "* The first layer is a linear one that extends the embedding size of each token to 3-time of the original size, and actually make 3 instances of each token: query, key, value\n",
        "* Then, each one of the embeddings is splitted into multiple heads, which actually extends the 3D original input into 4D (embedding size -> number of heads * head size):\n",
        "  * It allows us to to attend to different types of information in parallel (As the number of heads).\n",
        "  * Each head learns a different representation/subspace of the data.\n",
        "  * It improves expressivity and generalization.\n",
        "* After that, we compute the score based on the dot product between the query matrix and the transpose of the keys matrix, allows us to learn the relation between tokens (As the score higher, the relation is stronger).\n",
        "* We also normalize the scores with the square of the head size in order to keep the scores within a reasonable range\n",
        "* Then we fill zero-mask on the scores for every \"future\" token. We want the scores will be just between each token and it's previous token, not the next tokens in order to avoid cheating (To really learn predicting without knowing what's going to be next).\n",
        "* Then we make a softmax activation of the score in order to make a probability distribution (weights) of each relation. Each weight represents the level of relation in the context between the current token and the previous one\n",
        "* Then we make a dot product between the weights and the values vectors. That's because during the softmax, we lost the embedding information about the token, and we got just scalar values about the probabilites. Now we have to connect the probabilities back to their token embeddings.\n",
        "* Then we turn back the 4D tensor to the original structure of 3D (number of heads * head size -> embedding size), since we've done with the multi-head attention and it's no longer needed\n",
        "* At the end we apply the second layer which is a linear one. This is a projection layer that mixes information between the heads and makes the training to not look at each head seperately.\n",
        "\n",
        "Now we have a output tensor with the same size of the original one, but with full multi-head attention between each token to all of the previous tokens in the sequence, with all the heads mixed, and each \"value\" token is attached to it's weight probability for every other token in the sequence.\n",
        "\n",
        "Since the guide was clear, it helped me a lot during implementation. However, I got some issues with the tensor shape of the \"scale\" tensor and also applying the casual masking correctly was challenging"
      ]
    },
    {
      "cell_type": "markdown",
      "id": "62da9c70",
      "metadata": {
        "id": "62da9c70"
      },
      "source": [
        "## Transformer Block\n",
        "\n",
        "The transformer block is a single layer containing two main components: **Multi-Head Attention** followed by **MLP (Multi-Layer Perceptron)**. This layer design gets stacked multiple times to create the full transformer.\n",
        "\n",
        "### Layer Structure\n",
        "\n",
        "**Multi-Head Attention Layer**: Allows each position to gather information from other positions in the sequence. Multiple attention heads work in parallel, each potentially focusing on different types of relationships.\n",
        "\n",
        "**MLP Layer**: Processes each position independently through a feed-forward network, applying learned transformations to refine the representations.\n",
        "\n",
        "### Residual Connections - The Critical Bridge\n",
        "\n",
        "**What Residual Connections Are**: Instead of just passing the output forward, you add the original input back to the output: `output = input + layer(input)`. This creates a direct path for information to flow unchanged.\n",
        "\n",
        "**Why Residual Connections Are Essential**:\n",
        "- **Gradient Flow**: In deep networks, gradients can vanish as they backpropagate through many layers. Residuals provide direct gradient highways.\n",
        "- **Identity Preservation**: The network can learn to keep useful information unchanged by making the layer output close to zero.\n",
        "- **Easier Learning**: The layer only needs to learn the \"difference\" or \"refinement\" rather than completely new representations.\n",
        "- **Stable Training**: Without residuals, very deep transformers become difficult or impossible to train.\n",
        "\n",
        "### Layer-by-Layer Processing\n",
        "\n",
        "**First Layer - Multi-Head Attention**:\n",
        "1. Normalize the input\n",
        "2. Apply multi-head attention to capture inter-position relationships  \n",
        "3. Add the original input back (residual connection)\n",
        "\n",
        "**Second Layer - MLP**:\n",
        "1. Normalize the current representations\n",
        "2. Apply feed-forward transformations to each position\n",
        "3. Add the pre-MLP representations back (residual connection)\n",
        "\n",
        "The residual connections ensure that even in a 50-layer transformer, information and gradients can flow directly from the first layer to the last, enabling the training of very deep and powerful models."
      ]
    },
    {
      "cell_type": "code",
      "execution_count": 11,
      "id": "d00b5be5",
      "metadata": {
        "id": "d00b5be5"
      },
      "outputs": [],
      "source": [
        "class Block(nn.Module):\n",
        "    def __init__(self, config):\n",
        "        super(Block, self).__init__()\n",
        "        self.ln1 = nn.LayerNorm(config.embed_size)\n",
        "        self.ln2 = nn.LayerNorm(config.embed_size)\n",
        "        self.mlp = Mlp(config)\n",
        "        self.self_attn = SelfAttentionBlock(config)\n",
        "\n",
        "    def forward(self, x):\n",
        "        x = self.ln1(x + self.self_attn(x))\n",
        "        x = self.ln2(x + self.mlp(x))\n",
        "\n",
        "        return x\n"
      ]
    },
    {
      "cell_type": "markdown",
      "id": "c4dae08e-7e70-4b3d-b351-ebc334671aea",
      "metadata": {
        "id": "c4dae08e-7e70-4b3d-b351-ebc334671aea"
      },
      "source": [
        "## TODO 6 - Summary\n",
        "This part is the Transofmer Block of the network.\n",
        "\n",
        "This block combines both the Self Attention Block and the Feed Forward Block\n",
        "\n",
        "This block is executed per token:\n",
        "* The input is a 3D embedding vector where each token is represented with a size of *embed size* (There are T tokens per sequence and B sequences per batch)\n",
        "* The first layer is a norm layer that makes a normalization of the residual addition of the original tensor with the output of the self attention vector\n",
        "* The second layer, also a norm layer, makes a normalization of the residual addition of the output of the previous layer with the output of the MLP layer based on the output of the previous layer\n",
        "\n",
        "The residual addition allows to:\n",
        "* Help gradients flow backward without vanishing or exploding.\n",
        "* Allows the model to retain and blend the original input with the transformed features.\n",
        "\n",
        "The final output of the transofmer block contains:\n",
        "* The token itself\n",
        "* The relationship to all other tokens (via self-attention)\n",
        "* Includes nonlinear transformation via the MLP\n",
        "* Normalization for training stability\n",
        "\n",
        "The final output has rich and cotextual embedding information between the tokens in the sequence\n",
        "\n",
        "It was a quite straight-forward part with no any major issues"
      ]
    },
    {
      "cell_type": "markdown",
      "id": "fb1274aa",
      "metadata": {
        "id": "fb1274aa"
      },
      "source": [
        "## Transformer Model\n",
        "\n",
        "\n",
        "The `GPT2` class represents the complete transformer model - a decoder-only architecture that processes text and predicts the next token. This is the full model that combines all the components you've built.\n",
        "\n",
        "### Model Architecture Overview\n",
        "\n",
        "**Embedding Layers**: Convert discrete tokens into continuous vector representations that the neural network can process.\n",
        "\n",
        "**Transformer Stack**: Multiple transformer blocks stacked together, each refining the representations further.\n",
        "\n",
        "**Output Layer**: Converts the final representations back to vocabulary predictions for next-token generation.\n",
        "\n",
        "### Core Components\n",
        "\n",
        "**Token Embedding (`wte`)**: Maps each vocabulary word to a learned vector representation. Transforms token IDs into dense embeddings of size `embed_size`.\n",
        "\n",
        "**Position Embedding (`wpe`)**: Adds positional information since attention doesn't inherently understand word order. Each position gets its own learned embedding.\n",
        "\n",
        "**Transformer Blocks**: Stack of identical blocks (typically 12-48 layers) that progressively refine the representations through attention and feed-forward processing.\n",
        "\n",
        "**Final Layer Norm (`ln_f`)**: Normalizes the output from all transformer blocks before making predictions.\n",
        "\n",
        "**Language Model Head (`lm_head`)**: Linear layer that converts final embeddings back to vocabulary logits for next-token prediction.\n",
        "\n",
        "### Forward Pass Flow\n",
        "\n",
        "**Input Processing**:\n",
        "1. Convert token IDs to embeddings\n",
        "2. Add positional embeddings to provide sequence order information\n",
        "3. Combine token and position embeddings element-wise\n",
        "\n",
        "**Transformer Processing**:\n",
        "- Pass through each transformer block sequentially\n",
        "- Each block applies attention and MLP with residual connections\n",
        "- Representations become increasingly sophisticated through the stack\n",
        "\n",
        "**Output Generation**:\n",
        "1. Apply final normalization to stabilize outputs\n",
        "2. Project to vocabulary size using the language model head\n",
        "3. Compute loss against targets if provided for training\n",
        "\n",
        "### Key Design Decisions\n",
        "\n",
        "**Weight Sharing**: The token embedding and output projection share the same weights, reducing parameters and creating symmetry between input and output representations.\n",
        "\n",
        "**Autoregressive Training**: During training, the model predicts each position based only on previous positions, learning the sequential nature of language.\n",
        "\n",
        "**Next-Token Prediction**: The fundamental task is predicting the probability distribution over the vocabulary for what token should come next at each position.\n",
        "\n",
        "This architecture enables the model to generate coherent text by learning statistical patterns in language through the simple but powerful objective of next-token prediction."
      ]
    },
    {
      "cell_type": "code",
      "execution_count": 12,
      "id": "e3ba1966",
      "metadata": {
        "id": "e3ba1966"
      },
      "outputs": [],
      "source": [
        "class GPT2(nn.Module):\n",
        "    def __init__(self, config):\n",
        "        super(GPT2, self).__init__()\n",
        "        self.config = config\n",
        "        self.transformer = nn.ModuleDict(dict(\n",
        "            wte = nn.Embedding(config.vocab_size, config.embed_size), # token embeddings\n",
        "            wpe = nn.Embedding(config.block_size, config.embed_size), # positional embeddings\n",
        "            blocks = nn.ModuleList([Block(config) for _ in range(config.num_layers)]), # transformer blocks\n",
        "            ln_f = nn.LayerNorm(config.embed_size)\n",
        "            )\n",
        "        )\n",
        "        self.lm_head = nn.Linear(config.embed_size, config.vocab_size) # output layer for next token prediction\n",
        "        self.vocab_size = config.vocab_size\n",
        "\n",
        "        # sharing weights between token embedding and output layer\n",
        "        self.transformer.wte.weight = self.lm_head.weight # this allows the model to use the same embeddings for input and output tokens\n",
        "\n",
        "    def forward(self, idx, target=None):\n",
        "        \"\"\" Forward pass of the GPT-2 model.\n",
        "        Args:            idx: Input tensor of shape (B, T) where B is batch size and T is sequence length\n",
        "            target: Optional target tensor of shape (B, T) for computing loss\n",
        "        Returns:            logits: Output tensor of shape (B, T, vocab_size) containing logits for next token\n",
        "            loss: Optional scalar loss value if target is provided\n",
        "        \"\"\"\n",
        "        B, T = idx.shape\n",
        "        assert T <= self.config.block_size, f\"Input tokens length {T} exceeds maximum length {self.config.block_size}\"\n",
        "\n",
        "        idx = idx.to(torch.long)\n",
        "        pos = torch.arange(0, T, dtype=torch.long, device=self.config.device)\n",
        "\n",
        "        tok_emb = self.transformer.wte(idx)\n",
        "        pos_emb = self.transformer.wpe(pos)\n",
        "        x = tok_emb + pos_emb.unsqueeze(0)\n",
        "        for transformer_block in self.transformer.blocks:\n",
        "            x = transformer_block(x)\n",
        "        x = self.transformer.ln_f(x)\n",
        "        logits = self.lm_head(x)\n",
        "\n",
        "        if target is not None:\n",
        "            target = target.type(torch.LongTensor).to(self.config.device)\n",
        "            # compute the loss if we are given targets\n",
        "            loss = F.cross_entropy(\n",
        "                logits.view(-1, logits.size(-1)),\n",
        "                target.view(-1),\n",
        "                ignore_index=-1,\n",
        "            )\n",
        "        else:\n",
        "            loss = None\n",
        "\n",
        "        assert logits.shape == (B, T, self.vocab_size)\n",
        "\n",
        "        return logits, loss\n",
        "\n",
        "    def save_model(self, path):\n",
        "        torch.save(self.state_dict(), path)\n",
        "\n",
        "    def load_model(self, path):\n",
        "        self.load_state_dict(torch.load(path))\n"
      ]
    },
    {
      "cell_type": "markdown",
      "id": "b181041c-f0df-4310-9d78-e1b6097d7ec2",
      "metadata": {
        "id": "b181041c-f0df-4310-9d78-e1b6097d7ec2"
      },
      "source": [
        "## TODO 7 - Summary\n",
        "This part is the Final GPT2 Model, the \"customer facing\" model.\n",
        "\n",
        "This block combines all our previous work before.\n",
        "\n",
        "This block is executed per sequence of tokens:\n",
        "* The input is a 2D tensor with B sequences (B is the batch size), and each sequence contains T tokens (T is the sequence length). This input represent the input text that we want to predict the next token based on it.\n",
        "* During training only, there is an additional 2D tensor with same shape as the main input, and it contains the \"shift-right\" text of the main input. It contains the TRUE next token of the main input which we want to predict, and used to compute the loss and measure ourselves. Not relevant on inference.\n",
        "* The model contains a block size limit (The maximal number of tokens it can process in a sequence), so the input sequence lenght cannot exceed this limit.\n",
        "* The first layer is an embedding layer which converts each token in the sequence of the main input to an embedding vector -> A vector representation of each token which can contain many properties of it unlike a single integer of the original token. It converts the input tensor from 2D to 3D (Adds an embedding vector dimension).\n",
        "* The second layer, also an embedding layer, creates positional embeddings. We create a range tensor from 0 to T (The sequence length) [0,1,2,3,4..,T] and converts each position into an embedding. It allows us to know the relative position of each token to every other tokens.\n",
        "* After that we do a residual addition between the outputs of these two layers.\n",
        "* Then it's the major part of the model. We make some transfomer layers (As the number of layers we pass in configuration), and each time the input is processed using the Transformer block and it's output passed to the next Transformer block.\n",
        "  * We need multiple transofmer blocks because each layer denotes another perspective of the context. First layer looks for connection between relatively close tokens, and the last layers look at the whole text and the connection between each token to the entire text\n",
        "* After the transofmers we have a normalization layer to the output to avoid vanishing gradient\n",
        "* Then, the last layer converts the output of the previous layer (Embeedings of each token), to the final output which contains the Logits of each token. Now the logits vector of each token is as the same size of the vocabulary, and each item in the vector contains the logit of each token in the vocabulary. These logits are the unnormalized probabilities to gather each one of the tokens in the vocabulary after the token they represent.\n",
        "\n",
        "The final output is a 3D tensor with B sequences (B is the batch size), and each sequence contains T tokens (T is the sequence length), and each token contains a logits vector with the size of the vocabulary, where each token in a vocabulary gets a logit (a weight).\n",
        "\n",
        "* During training, after we compute the output logits, we also compute the loss function between the output logits (The predicted tokens) and the target tensor (The ground truth). We use a standard CrossEnthropy loss to know how we're accurate\n",
        "\n",
        "It was a challenging part:\n",
        "* I had many issues using shapes, types (Float / Long) and device matching.\n",
        "* Also realizing what exactly the purpose of the position, and when to use the target tensor was also challenging"
      ]
    },
    {
      "cell_type": "markdown",
      "id": "beed0f77",
      "metadata": {
        "id": "beed0f77"
      },
      "source": [
        "## Text Generation\n"
      ]
    },
    {
      "cell_type": "markdown",
      "id": "2030245e",
      "metadata": {
        "id": "2030245e"
      },
      "source": [
        "### Sampling Strategies\n",
        "\n",
        "How we convert these probabilities into actual text generation:\n",
        "\n",
        "#### 1. Greedy Decoding\n",
        "```python\n",
        "# Always pick the highest probability token\n",
        "def greedy_sample(logits):\n",
        "    return torch.argmax(logits, dim=-1)\n",
        "\n",
        "# Result: Deterministic but potentially repetitive\n",
        "```\n",
        "\n",
        "#### 2. Temperature Sampling\n",
        "```python\n",
        "# Control randomness with temperature\n",
        "def temperature_sample(logits, temperature=0.8):\n",
        "    # Higher temperature = more random\n",
        "    # Lower temperature = more focused\n",
        "    scaled_logits = logits / temperature\n",
        "    probs = torch.softmax(scaled_logits, dim=-1)\n",
        "    return torch.multinomial(probs, num_samples=1)\n",
        "\n",
        "# Temperature effects:\n",
        "# T=0.1: \"To be or not to be, that is the question\"  (very predictable)\n",
        "# T=0.8: \"To be or not to be, that troubles the mind\"  (creative but coherent)\n",
        "# T=2.0: \"To be or not to fish, purple dreams loudly\"  (too random)\n",
        "```\n",
        "\n",
        "#### 3. Top-k Sampling\n",
        "```python\n",
        "# Only consider the k most likely tokens\n",
        "def top_k_sample(logits, k=50):\n",
        "    values, indices = torch.topk(logits, k)\n",
        "    probs = torch.softmax(values, dim=-1)\n",
        "    next_token = torch.multinomial(probs, num_samples=1)\n",
        "    return indices[next_token]\n",
        "```"
      ]
    },
    {
      "cell_type": "markdown",
      "id": "078605dd",
      "metadata": {
        "id": "078605dd"
      },
      "source": [
        "Implement a top-k sampling  function to generate text from the model.\n",
        "\n"
      ]
    },
    {
      "cell_type": "code",
      "execution_count": 13,
      "id": "0954f313",
      "metadata": {
        "colab": {
          "base_uri": "https://localhost:8080/",
          "height": 35
        },
        "id": "0954f313",
        "outputId": "7cb9d5c3-f0da-4fcb-d6e8-8e251513d9be"
      },
      "outputs": [
        {
          "output_type": "execute_result",
          "data": {
            "text/plain": [
              "'\\ngenerate_text = pipeline(model, tokenizer)\\nprompt = \"To be or not to be, that is the question: \"\\ngenerated_text = generate_text(prompt, max_len=100)\\n'"
            ],
            "application/vnd.google.colaboratory.intrinsic+json": {
              "type": "string"
            }
          },
          "metadata": {},
          "execution_count": 13
        }
      ],
      "source": [
        "# Only consider the k most likely tokens\n",
        "def top_k_sample(logits, k=50):\n",
        "    values, indices = torch.topk(logits, k)\n",
        "    probs = torch.softmax(values, dim=-1).squeeze()\n",
        "    next_token = torch.multinomial(probs, num_samples=1)\n",
        "    indices = indices.squeeze()\n",
        "    return indices[next_token]\n",
        "\n",
        "def pipeline(model, tokenizer, k=10):\n",
        "    \"\"\"    Create a text generation pipeline for the given model and tokenizer.\n",
        "    Args:\n",
        "        model: The trained model instance\n",
        "        tokenizer: The tokenizer instance\n",
        "        k: Number of top-k tokens to sample from at each step (default: 10)\n",
        "    Returns:A function that takes a prompt and generates text\"\"\"\n",
        "    # step-by-step explanation of the pipeline function:\n",
        "    \"\"\"\n",
        "    1. Set the model to evaluation mode\n",
        "    2. Encode the input prompt using the tokenizer\n",
        "    3. Convert the encoded prompt to a tensor and move it to the model's device\n",
        "    4. While the length of the generated sequence is less than max_len:\n",
        "        a. Get the model's logits for the last token in the sequence\n",
        "        b. Extract the logits for the last token and apply softmax to get probabilities\n",
        "        c. Use top-k sampling to select the next token based on probabilities\n",
        "        d. Append the selected token to the sequence\n",
        "    5. Decode the generated sequence back to text using the tokenizer\n",
        "    6. Return the generated text\n",
        "    \"\"\"\n",
        "    def generate(prompt, max_len=1024):\n",
        "        #1. Set the model to evaluation mode\n",
        "        model.eval()\n",
        "\n",
        "        # 2. Encode the input prompt using the tokenizer\n",
        "        # 3. Convert the encoded prompt to a tensor and move it to the model's device\n",
        "        generated_tensor = torch.tensor(tokenizer.encode(prompt)).unsqueeze(0).to(device)\n",
        "        cur_len = generated_tensor.size(1)\n",
        "\n",
        "        # Add padding before the prompt to support the block size, but keep the cur_len as before padding\n",
        "        pad_len = model.config.block_size - generated_tensor.size(1)\n",
        "        if pad_len > 0:\n",
        "          padding = torch.zeros((1, pad_len), dtype=torch.long).to(device)\n",
        "          generated_tensor = torch.cat([padding, generated_tensor], dim=1)\n",
        "\n",
        "        # 4. While the length of the generated sequence is less than max_len:\n",
        "        while(cur_len < max_len):\n",
        "            # a. Get the model's logits for the last token in the sequence\n",
        "            # If the prompt is shorter than block size, pad on the left\n",
        "            logits, _ = model(generated_tensor[:, -model.config.block_size:])\n",
        "\n",
        "            # b. Extract the logits for the last token and apply softmax to get probabilities\n",
        "            # c. Use top-k sampling to select the next token based on probabilities\n",
        "            last_logit = logits[:, -1, :]\n",
        "            next_token = top_k_sample(last_logit, k).unsqueeze(0)\n",
        "\n",
        "            # d. Append the selected token to the sequence\n",
        "            generated_tensor = torch.cat([generated_tensor, next_token], dim=1)\n",
        "\n",
        "            cur_len += 1\n",
        "\n",
        "        # 5. Decode the generated sequence back to text using the tokenizer\n",
        "        # 6. Return the generated text\n",
        "        generated_tensor_np = generated_tensor.cpu().numpy().flatten()\n",
        "\n",
        "        # Find the last non-zero index\n",
        "        nonzero_indices = np.nonzero(generated_tensor_np)[0]\n",
        "        fisrt_nonzero_idx = nonzero_indices[0]\n",
        "        last_nonzero_idx = nonzero_indices[-1]\n",
        "        generated_tensor_np = generated_tensor_np[fisrt_nonzero_idx:last_nonzero_idx+1]\n",
        "\n",
        "        return tokenizer.decode(generated_tensor_np)\n",
        "    return generate\n",
        "\n",
        "\n",
        "# exmple usage of the pipeline\n",
        "\"\"\"\n",
        "generate_text = pipeline(model, tokenizer)\n",
        "prompt = \"To be or not to be, that is the question: \"\n",
        "generated_text = generate_text(prompt, max_len=100)\n",
        "\"\"\"\n"
      ]
    },
    {
      "cell_type": "markdown",
      "id": "3aa9aa90-1a5d-4b61-b708-d439d0933811",
      "metadata": {
        "id": "3aa9aa90-1a5d-4b61-b708-d439d0933811"
      },
      "source": [
        "## TODO 8 - Summary\n",
        "\n",
        "Although it was just not a part of the model architecture, it was one of the most challenging parts in the assignment, probably because it was less supervised part than other parts in the assignments.\n",
        "\n",
        "In this part, the mission is to generate text based on a prompt, exactly like ChatGPT (The inference part)\n",
        "\n",
        "* The input is a textual prompt, and the max lenght of the text we're willing to generate\n",
        "* Then, we first run the model on evaluation mode.\n",
        "* Then we create our generated tensor that contains the prompt itself, encoded to integers using the Tokenizer I implemented previously.\n",
        "* In addition, since the model didn't work well when the sequence length was small (below the block size), I added left padding to the prompt in order to pass an input with an exact size of the model block size. Then I created a zero tensor with the size of the block size minus the prompt lenght, and padded it to the left of the prompt tensor\n",
        "  * I kept the \"cur_len\" index as same as the prompt len, since we don't want it to count also the zero paddings in the beginning.\n",
        "* Now I got into a loop, while we don't reach the max lenght we're willing to generate (Each iteration adds one more token to the text).\n",
        "* In each iteration, I called the GPT Model using the current generated tensor, in order to get the next token (Since the model cannot get a sequence that exceeds the block size of the model, I passed the last \"block size\" tokens of the current generated tensor)\n",
        "* Since it's inference mode, I passed just the current generated tensor as input, with no target\n",
        "* I got as output a tensor of logits for each token in the sequence, however we're interested just in the logits of the last token in the sequence (Just for the last token we predict a next token)\n",
        "* Then I implemented a top-k function to predict the next token based on the logits:\n",
        "  * First we get the top k values and indices (encoded tokens) from the logits\n",
        "  * Then we convert them to normalized probabilites using softmax\n",
        "  * Then we extract the token with the highest probability\n",
        "* After we have the next token (as it's integer representation), we concatinate it to the current generated tensor\n",
        "* After we finished generating, we convert the tensor to a simple 1D numpy array we can use\n",
        "* Before decoding the numpy array back to characters, we first remove the trailing zero paddings, both in the start and in the end of the array\n",
        "* Now we decode using the Tokenizer we built in the first part the integers back to characters and return the generated text\n",
        "\n",
        "It was a really challenging part, including:\n",
        "* Many shape and dimension related issues - It took a long time of troubleshooting to make a complete matching with dimensions and shape between tensors.\n",
        "* At first, also calling the model raised errors from the self attention layer, since the masking was on fixed size and not a dynamic size ```scores.masked_fill(self.mask == 0, float('-inf')) -> scores.masked_fill(self.mask[:, :, :T, :T] == 0, float('-inf'))```\n",
        "* After a final success run of the generation, I got a total geebrish in the first ~260 characters, which is the size of the block size\n",
        "  * After a long investigation, I solved it with adding left padding to the tensor. I found the predictions are not working well when the sequence lenght is much less than the block size\n",
        "  * Since I added the zero-padding, I also needed to remove them at the finish of the process before decoding back to characters\n",
        "\n"
      ]
    },
    {
      "cell_type": "markdown",
      "id": "37dff197",
      "metadata": {
        "id": "37dff197"
      },
      "source": [
        "### Conig the Transformer Model"
      ]
    },
    {
      "cell_type": "code",
      "execution_count": 14,
      "id": "ee3dd390",
      "metadata": {
        "id": "ee3dd390"
      },
      "outputs": [],
      "source": [
        "# This is the most minmal config class for GPT-2 (Takes 40-60 to train). You are welcome to modify it to a bigger model or for loger but no the other way around (expet of batch size which you can reduce if you run out of memory)\n",
        "class GPT2Config:\n",
        "    def __init__(self):\n",
        "        self.embed_size = 64\n",
        "        self.num_heads = 2\n",
        "        self.num_layers = 4\n",
        "        self.vocab_size = len(tokenizer)\n",
        "        self.block_size = 256\n",
        "        self.lr = 3e-4\n",
        "        self.batch_size = 32 # use a smaller batch size if you run out of memory\n",
        "        self.device = 'cuda' if torch.cuda.is_available() else 'cpu'\n",
        "        self.path = 'models/model.pth'\n",
        "        self.num_epochs = 10\n",
        "\n",
        "        self.patience = 5  # Early stopping patience\n",
        "        self.grad_clip = 1.0  # Gradient clipping threshold\n",
        "\n",
        "        # Learning rate scheduler configs\n",
        "        self.use_scheduler = True\n",
        "        self.scheduler_type = 'reduce_on_plateau'  # 'reduce_on_plateau', 'cosine', 'step'\n",
        "        self.lr_patience = 2  # For ReduceLROnPlateau\n",
        "        self.lr_factor = 0.5  # For ReduceLROnPlateau\n",
        "        self.step_size = 1  # For StepLR\n",
        "        self.gamma = 0.1  # For StepLR"
      ]
    },
    {
      "cell_type": "markdown",
      "id": "3202876e",
      "metadata": {
        "id": "3202876e"
      },
      "source": [
        "## Traninig"
      ]
    },
    {
      "cell_type": "code",
      "execution_count": 15,
      "id": "f822ddc5",
      "metadata": {
        "id": "f822ddc5"
      },
      "outputs": [],
      "source": [
        "# traning function\n",
        "def train_model(model, train_loader, val_loader, optimizer, config=None):\n",
        "\n",
        "    # Setup\n",
        "    model.train()\n",
        "    summary_writer = SummaryWriter(log_dir='runs/shakespeare_experiment')\n",
        "\n",
        "    # Create models directory\n",
        "    os.makedirs('models', exist_ok=True)\n",
        "\n",
        "    # Training state tracking\n",
        "    best_val_loss = float('inf')\n",
        "    patience_counter = 0\n",
        "    patience = getattr(config, 'patience', 5)  # Early stopping patience\n",
        "\n",
        "    # Loss tracking\n",
        "    train_losses = deque(maxlen=1000)\n",
        "    global_step = 0\n",
        "\n",
        "    print(\"Starting training...\")\n",
        "    print(f\"Training for {config.num_epochs} epochs\")\n",
        "    print(f\"Training batches: {len(train_loader)}, Validation batches: {len(val_loader)}\")\n",
        "\n",
        "    for epoch in range(config.num_epochs):\n",
        "        print(f\"\\nEpoch {epoch + 1}/{config.num_epochs}\")\n",
        "\n",
        "        # Training phase\n",
        "        model.train()\n",
        "        epoch_train_losses = []\n",
        "\n",
        "        with tqdm(train_loader, desc=f\"Training Epoch {epoch + 1}\") as pbar:\n",
        "            for batch_idx, (x, y) in enumerate(pbar):\n",
        "                x, y = x.to(config.device), y.to(config.device)\n",
        "\n",
        "                # Forward pass\n",
        "                optimizer.zero_grad()\n",
        "                logits, loss = model(x, y)\n",
        "\n",
        "                # Backward pass\n",
        "                loss.backward()\n",
        "\n",
        "                # Gradient clipping (optional but recommended)\n",
        "                if hasattr(config, 'grad_clip') and config.grad_clip > 0:\n",
        "                    torch.nn.utils.clip_grad_norm_(model.parameters(), config.grad_clip)\n",
        "\n",
        "                optimizer.step()\n",
        "\n",
        "                # Track losses\n",
        "                loss_item = loss.item()\n",
        "                train_losses.append(loss_item)\n",
        "                epoch_train_losses.append(loss_item)\n",
        "\n",
        "                # Update progress bar\n",
        "                pbar.set_postfix({\n",
        "                    'loss': f\"{loss_item:.4f}\",\n",
        "                    'avg_loss': f\"{np.mean(train_losses):.4f}\",\n",
        "                    'lr': f\"{optimizer.param_groups[0]['lr']:.2e}\"\n",
        "                })\n",
        "\n",
        "                # Log to tensorboard every N steps\n",
        "                if global_step % 10 == 0:  # Log every 10 steps\n",
        "                    summary_writer.add_scalar('Loss/train_step', loss_item, global_step)\n",
        "                    summary_writer.add_scalar('Learning_Rate', optimizer.param_groups[0]['lr'], global_step)\n",
        "\n",
        "                global_step += 1\n",
        "\n",
        "        # Validation phase\n",
        "        model.eval()\n",
        "        val_losses = []\n",
        "\n",
        "        with torch.no_grad():\n",
        "            with tqdm(val_loader, desc=f\"Validation Epoch {epoch + 1}\", leave=False) as val_pbar:\n",
        "                for x, y in val_loader:\n",
        "                    x, y = x.to(config.device), y.to(config.device)\n",
        "                    logits, loss = model(x, y)\n",
        "                    val_losses.append(loss.item())\n",
        "                    val_pbar.set_postfix({'val_loss': f\"{loss.item():.4f}\"})\n",
        "\n",
        "        # Calculate epoch metrics\n",
        "        avg_train_loss = np.mean(epoch_train_losses)\n",
        "        avg_val_loss = np.mean(val_losses)\n",
        "\n",
        "        # Log epoch metrics\n",
        "        summary_writer.add_scalar('Loss/train_epoch', avg_train_loss, epoch)\n",
        "        summary_writer.add_scalar('Loss/validation_epoch', avg_val_loss, epoch)\n",
        "\n",
        "        print(f\"Epoch {epoch + 1} - Train Loss: {avg_train_loss:.4f}, Val Loss: {avg_val_loss:.4f}\")\n",
        "\n",
        "\n",
        "        # Model checkpointing\n",
        "        checkpoint = {\n",
        "            'epoch': epoch,\n",
        "            'model_state_dict': model.state_dict(),\n",
        "            'optimizer_state_dict': optimizer.state_dict(),\n",
        "            'train_loss': avg_train_loss,\n",
        "            'val_loss': avg_val_loss,\n",
        "            'global_step': global_step\n",
        "        }\n",
        "\n",
        "        # Save best model\n",
        "        if avg_val_loss < best_val_loss:\n",
        "            best_val_loss = avg_val_loss\n",
        "            patience_counter = 0\n",
        "            torch.save(checkpoint, os.path.join('models', 'best_model.pt'))\n",
        "            print(f\"New best model saved! Val loss: {best_val_loss:.4f}\")\n",
        "        else:\n",
        "            patience_counter += 1\n",
        "\n",
        "        # Save regular checkpoint\n",
        "        torch.save(checkpoint, os.path.join('models', f'checkpoint_epoch_{epoch}.pt'))\n",
        "\n",
        "        # Early stopping\n",
        "        if patience_counter >= patience:\n",
        "            print(f\"Early stopping triggered after {patience} epochs without improvement\")\n",
        "            break\n",
        "\n",
        "        # Save latest model using your custom save method\n",
        "        if hasattr(model, 'save_model'):\n",
        "            model.save_model(config.path)\n",
        "\n",
        "    # Final logging\n",
        "    summary_writer.close()\n",
        "    print(\"Training complete!\")\n",
        "    print(f\"Best validation loss: {best_val_loss:.4f}\")\n",
        "\n",
        "    return {\n",
        "        'best_val_loss': best_val_loss,\n",
        "        'final_train_loss': avg_train_loss,\n",
        "        'final_val_loss': avg_val_loss,\n",
        "        'epochs_trained': epoch + 1\n",
        "    }\n",
        "\n",
        "def estimate_loss(model, eval_iters, data_loaders={}):\n",
        "    \"\"\"        Estimate the loss of the model on the given splits.\n",
        "    Args:\n",
        "        model: The model to evaluate\n",
        "        eval_iters: Number of iterations to average the loss over\n",
        "        splits: List of dataset splits to evaluate (e.g., 'train', 'validation')\n",
        "        data_loader: DataLoader instance for fetching batches\n",
        "    Returns:\n",
        "        out: Dictionary with average loss for each split\n",
        "    \"\"\"\n",
        "    with torch.no_grad():\n",
        "        out = {}\n",
        "        model.eval()\n",
        "        for split, dl in data_loaders.items():\n",
        "            losses = 0\n",
        "            for i in range(eval_iters):\n",
        "                x, y = next(iter(dl))\n",
        "                x, y = x.to(model.config.device), y.to(model.config.device)\n",
        "                _, loss = model(x, y)\n",
        "                losses += loss.item()\n",
        "            out[split] = losses / eval_iters\n",
        "        model.train()\n",
        "    return out"
      ]
    },
    {
      "cell_type": "code",
      "execution_count": 28,
      "id": "a5bfaee8",
      "metadata": {
        "colab": {
          "base_uri": "https://localhost:8080/"
        },
        "id": "a5bfaee8",
        "outputId": "b91492f3-9acf-4699-a23c-d4f4537ea1e1"
      },
      "outputs": [
        {
          "output_type": "stream",
          "name": "stderr",
          "text": [
            "/usr/local/lib/python3.11/dist-packages/torch/utils/data/dataloader.py:624: UserWarning: This DataLoader will create 4 worker processes in total. Our suggested max number of worker in current system is 2, which is smaller than what this DataLoader is going to create. Please be aware that excessive worker creation might get DataLoader running slow or even freeze, lower the worker number to avoid potential slowness/freeze if necessary.\n",
            "  warnings.warn(\n"
          ]
        },
        {
          "output_type": "stream",
          "name": "stdout",
          "text": [
            "Loaded pretrained model\n",
            "device: cuda\n",
            "Total parameters: 220,673\n"
          ]
        }
      ],
      "source": [
        "# init config and datasets\n",
        "con = GPT2Config()\n",
        "train_dataset = ShakespeareDataset(train_data, con.block_size)\n",
        "val_dataset = ShakespeareDataset(val_data, con.block_size)\n",
        "train_loader = DataLoader(\n",
        "    train_dataset,\n",
        "    batch_size=con.batch_size,\n",
        "    shuffle=shuffle_train,\n",
        "    num_workers=4,\n",
        "    drop_last=True  # Drop last incomplete batch for consistent batch sizes\n",
        ")\n",
        "\n",
        "val_loader = DataLoader(\n",
        "    val_dataset,\n",
        "    batch_size=con.batch_size,\n",
        "    shuffle=False,  # Don't shuffle validation data\n",
        "    num_workers=4,\n",
        "    drop_last=False\n",
        ")\n",
        "\n",
        "model = GPT2(con)\n",
        "\n",
        "if LOAD_PRETRAINED_MODEL:\n",
        "  state_dict = torch.load(os.path.join('models', 'best_model.pt'), map_location=con.device, weights_only=False)\n",
        "  model.load_state_dict(state_dict['model_state_dict'])\n",
        "  print(\"Loaded pretrained model\")\n",
        "\n",
        "model.to(con.device)\n",
        "print(f\"device: {con.device}\")\n",
        "optimizer = torch.optim.Adam(model.parameters(), lr=con.lr)\n",
        "\n",
        "total_params = 0\n",
        "for name, param in model.named_parameters():\n",
        "    total_params += param.numel()\n",
        "print(f\"Total parameters: {total_params:,}\")"
      ]
    },
    {
      "cell_type": "code",
      "execution_count": null,
      "id": "e7dd3da7",
      "metadata": {
        "colab": {
          "base_uri": "https://localhost:8080/"
        },
        "id": "e7dd3da7",
        "outputId": "ec79603a-1ccd-4747-f8a6-d335a5a9a88c"
      },
      "outputs": [
        {
          "name": "stdout",
          "output_type": "stream",
          "text": [
            "Starting training...\n",
            "Training for 10 epochs\n",
            "Training batches: 31362, Validation batches: 3478\n",
            "\n",
            "Epoch 1/10\n"
          ]
        },
        {
          "name": "stderr",
          "output_type": "stream",
          "text": [
            "\r",
            "Training Epoch 1:   0%|          | 0/31362 [00:00<?, ?it/s]/usr/local/lib/python3.11/dist-packages/torch/utils/data/dataloader.py:624: UserWarning: This DataLoader will create 4 worker processes in total. Our suggested max number of worker in current system is 2, which is smaller than what this DataLoader is going to create. Please be aware that excessive worker creation might get DataLoader running slow or even freeze, lower the worker number to avoid potential slowness/freeze if necessary.\n",
            "  warnings.warn(\n",
            "Training Epoch 1: 100%|██████████| 31362/31362 [10:46<00:00, 48.53it/s, loss=0.0070, avg_loss=0.0086, lr=3.00e-04]\n"
          ]
        },
        {
          "name": "stdout",
          "output_type": "stream",
          "text": [
            "Epoch 1 - Train Loss: 0.6579, Val Loss: 0.0087\n",
            "New best model saved! Val loss: 0.0087\n",
            "\n",
            "Epoch 2/10\n"
          ]
        },
        {
          "name": "stderr",
          "output_type": "stream",
          "text": [
            "Training Epoch 2: 100%|██████████| 31362/31362 [10:47<00:00, 48.44it/s, loss=0.0062, avg_loss=0.0072, lr=3.00e-04]\n"
          ]
        },
        {
          "name": "stdout",
          "output_type": "stream",
          "text": [
            "Epoch 2 - Train Loss: 0.0078, Val Loss: 0.0077\n",
            "New best model saved! Val loss: 0.0077\n",
            "\n",
            "Epoch 3/10\n"
          ]
        },
        {
          "name": "stderr",
          "output_type": "stream",
          "text": [
            "Training Epoch 3: 100%|██████████| 31362/31362 [10:47<00:00, 48.40it/s, loss=0.0089, avg_loss=0.0066, lr=3.00e-04]\n"
          ]
        },
        {
          "name": "stdout",
          "output_type": "stream",
          "text": [
            "Epoch 3 - Train Loss: 0.0068, Val Loss: 0.0073\n",
            "New best model saved! Val loss: 0.0073\n",
            "\n",
            "Epoch 4/10\n"
          ]
        },
        {
          "name": "stderr",
          "output_type": "stream",
          "text": [
            "Training Epoch 4: 100%|██████████| 31362/31362 [10:46<00:00, 48.51it/s, loss=0.0076, avg_loss=0.0064, lr=3.00e-04]\n"
          ]
        },
        {
          "name": "stdout",
          "output_type": "stream",
          "text": [
            "Epoch 4 - Train Loss: 0.0065, Val Loss: 0.0070\n",
            "New best model saved! Val loss: 0.0070\n",
            "\n",
            "Epoch 5/10\n"
          ]
        },
        {
          "name": "stderr",
          "output_type": "stream",
          "text": [
            "Training Epoch 5: 100%|██████████| 31362/31362 [10:46<00:00, 48.54it/s, loss=0.0049, avg_loss=0.0061, lr=3.00e-04]\n"
          ]
        },
        {
          "name": "stdout",
          "output_type": "stream",
          "text": [
            "Epoch 5 - Train Loss: 0.0062, Val Loss: 0.0069\n",
            "New best model saved! Val loss: 0.0069\n",
            "\n",
            "Epoch 6/10\n"
          ]
        },
        {
          "name": "stderr",
          "output_type": "stream",
          "text": [
            "Training Epoch 6: 100%|██████████| 31362/31362 [10:46<00:00, 48.51it/s, loss=0.0058, avg_loss=0.0060, lr=3.00e-04]\n"
          ]
        },
        {
          "name": "stdout",
          "output_type": "stream",
          "text": [
            "Epoch 6 - Train Loss: 0.0061, Val Loss: 0.0068\n",
            "New best model saved! Val loss: 0.0068\n",
            "\n",
            "Epoch 7/10\n"
          ]
        },
        {
          "name": "stderr",
          "output_type": "stream",
          "text": [
            "Training Epoch 7: 100%|██████████| 31362/31362 [10:46<00:00, 48.51it/s, loss=0.0068, avg_loss=0.0059, lr=3.00e-04]\n"
          ]
        },
        {
          "name": "stdout",
          "output_type": "stream",
          "text": [
            "Epoch 7 - Train Loss: 0.0059, Val Loss: 0.0067\n",
            "New best model saved! Val loss: 0.0067\n",
            "\n",
            "Epoch 8/10\n"
          ]
        },
        {
          "name": "stderr",
          "output_type": "stream",
          "text": [
            "Training Epoch 8: 100%|██████████| 31362/31362 [10:46<00:00, 48.54it/s, loss=0.0047, avg_loss=0.0058, lr=3.00e-04]\n"
          ]
        },
        {
          "name": "stdout",
          "output_type": "stream",
          "text": [
            "Epoch 8 - Train Loss: 0.0059, Val Loss: 0.0066\n",
            "New best model saved! Val loss: 0.0066\n",
            "\n",
            "Epoch 9/10\n"
          ]
        },
        {
          "name": "stderr",
          "output_type": "stream",
          "text": [
            "Training Epoch 9: 100%|██████████| 31362/31362 [10:48<00:00, 48.35it/s, loss=0.0057, avg_loss=0.0058, lr=3.00e-04]\n"
          ]
        },
        {
          "name": "stdout",
          "output_type": "stream",
          "text": [
            "Epoch 9 - Train Loss: 0.0058, Val Loss: 0.0065\n",
            "New best model saved! Val loss: 0.0065\n",
            "\n",
            "Epoch 10/10\n"
          ]
        },
        {
          "name": "stderr",
          "output_type": "stream",
          "text": [
            "Training Epoch 10: 100%|██████████| 31362/31362 [10:48<00:00, 48.35it/s, loss=0.0059, avg_loss=0.0058, lr=3.00e-04]\n"
          ]
        },
        {
          "name": "stdout",
          "output_type": "stream",
          "text": [
            "Epoch 10 - Train Loss: 0.0057, Val Loss: 0.0065\n",
            "New best model saved! Val loss: 0.0065\n",
            "Training complete!\n",
            "Best validation loss: 0.0065\n"
          ]
        }
      ],
      "source": [
        "if not LOAD_PRETRAINED_MODEL:\n",
        "  # Creating an optimizer\n",
        "  optimizer = torch.optim.AdamW(model.parameters(), lr=con.lr, weight_decay=0.01)\n",
        "\n",
        "  # train the model\n",
        "  results = train_model(model, train_loader, val_loader, optimizer, con)"
      ]
    },
    {
      "cell_type": "code",
      "execution_count": 43,
      "id": "89517e6e",
      "metadata": {
        "colab": {
          "base_uri": "https://localhost:8080/"
        },
        "id": "89517e6e",
        "outputId": "f626fd84-e17a-46c4-9c4f-ed42d9214aa4"
      },
      "outputs": [
        {
          "output_type": "stream",
          "name": "stdout",
          "text": [
            "to be or not to be!\n",
            "\n",
            "'O:', wae?\n",
            "\n",
            "I'tro;\n",
            "I no? I gente!\n",
            "I fot, woo!-\n",
            "\n",
            "Fie:\n",
            "I h! ay, I hate!\n",
            "\n",
            "o'o?\n",
            "\n",
            "o ten, to homa go:'te be!\n",
            "\n",
            "CAPULed so sun; hours; farewell:\n",
            "'Tittain have the hatef, his fairly is my lutt with shalt wand yince, mince of sweet, where is the ten\n",
            "Things hange her those my sworn, where,' sortance\n",
            "That I am nor warm my broken he husbant,\n",
            "But thus he compuns. He hath denied than arm\n",
            "Thlowing take sham battmen. Angelo, and ye supply.\n",
            "\n",
            "SICINIUS:\n",
            "I cannot ward I thou sorrow,\n",
            "\n",
            "FRIAR, Chence to your marks a dir to be whose behite stood.\n",
            "This he is spoke all no does how I will wholers.\n",
            "\n",
            "BENVOLIO$:\n",
            "Hhy nature to put thou will you, thou not\n",
            "In my treadut so, have may to his son?\n",
            "\n",
            "LUCENTIO:\n",
            "Not our hanging have him that I am no to cenquire.\n",
            "\n",
            "QUEEN ELIZABETH:\n",
            "Beseech your makes with the dage all blow;\n",
            "Which is slaughters of the stops,\n",
            "His lives and thou shall have is sakes in my blocks? were wood for whose of love with,\n",
            "To despated, whose coursels by patience\n",
            "Be that in him.\n",
            "\n",
            "BUCKINGHAM:\n",
            "Ay, let yours?\n",
            "\n",
            "COPU\n"
          ]
        }
      ],
      "source": [
        "generator = pipeline(model, tokenizer, k=10)\n",
        "print(generator('to be or not to be', max_len=1024))"
      ]
    }
  ],
  "metadata": {
    "accelerator": "GPU",
    "colab": {
      "gpuType": "T4",
      "provenance": [],
      "include_colab_link": true
    },
    "kernelspec": {
      "display_name": "Python 3 (ipykernel)",
      "language": "python",
      "name": "python3"
    },
    "language_info": {
      "codemirror_mode": {
        "name": "ipython",
        "version": 3
      },
      "file_extension": ".py",
      "mimetype": "text/x-python",
      "name": "python",
      "nbconvert_exporter": "python",
      "pygments_lexer": "ipython3",
      "version": "3.13.3"
    }
  },
  "nbformat": 4,
  "nbformat_minor": 5
}